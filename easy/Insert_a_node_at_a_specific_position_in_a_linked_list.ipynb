{
  "nbformat": 4,
  "nbformat_minor": 0,
  "metadata": {
    "colab": {
      "name": "Insert a node at a specific position in a linked list.ipynb",
      "provenance": [],
      "collapsed_sections": []
    },
    "kernelspec": {
      "name": "python3",
      "display_name": "Python 3"
    }
  },
  "cells": [
    {
      "cell_type": "markdown",
      "metadata": {
        "id": "_LTDn4aqFlOP",
        "colab_type": "text"
      },
      "source": [
        "You’re given the pointer to the head node of a linked list, an integer to add to the list and the position at which the integer must be inserted. Create a new node with the given integer, insert this node at the desired position and return the head node.\n",
        "A position of 0 indicates head, a position of 1 indicates one node away from the head and so on. The head pointer given may be null meaning that the initial list is empty.\n",
        "As an example, if your list starts as  and you want to insert a node at position  with , your new list should be \n",
        "Function Description Complete the function insertNodeAtPosition in the editor below. It must return a reference to the head node of your finished list.\n",
        "insertNodeAtPosition has the following parameters:\n",
        "head: a SinglyLinkedListNode pointer to the head of the list\n",
        "data: an integer value to insert as data in your new node\n",
        "position: an integer position to insert the new node, zero based indexing\n",
        "Input Format\n",
        "The first line contains an integer , the number of elements in the linked list. \n",
        "Each of the next  lines contains an integer SinglyLinkedListNode[i].data. \n",
        "The next line contains an integer  denoting the data of the node that is to be inserted. \n",
        "The last line contains an integer .\n",
        "Constraints\n",
        "\n",
        ", where  is the  element of the linked list.\n",
        ".\n",
        "Output Format\n",
        "Return a reference to the list head. Locked code prints the list for you.\n",
        "Sample Input\n",
        "3\n",
        "16\n",
        "13\n",
        "7\n",
        "1\n",
        "2\n",
        "Sample Output\n",
        "16 13 1 7\n",
        "Explanation\n",
        "The initial linked list is 16 13 7. We have to insert  at the position  which currently has  in it. The updated linked list will be 16 13 1 7"
      ]
    },
    {
      "cell_type": "code",
      "metadata": {
        "id": "PAsR54gLFdEl",
        "colab_type": "code",
        "colab": {}
      },
      "source": [
        "# For your reference:\n",
        "#\n",
        "# SinglyLinkedListNode:\n",
        "#     int data\n",
        "#     SinglyLinkedListNode next\n",
        "#\n",
        "#\n",
        "def insertNodeAtPosition(head, data, position):\n",
        "    n = head\n",
        "    for _ in range(position - 1):\n",
        "        n = n.next\n",
        "    n_next = n.next\n",
        "    n.next = SinglyLinkedListNode(data)\n",
        "    n.next.next = n_next\n",
        "    return head"
      ],
      "execution_count": 0,
      "outputs": []
    }
  ]
}