{
  "nbformat": 4,
  "nbformat_minor": 0,
  "metadata": {
    "colab": {
      "name": "Linked Lists: Detect a Cycle.ipynb",
      "provenance": [],
      "collapsed_sections": []
    },
    "kernelspec": {
      "name": "python3",
      "display_name": "Python 3"
    }
  },
  "cells": [
    {
      "cell_type": "markdown",
      "metadata": {
        "id": "_LTDn4aqFlOP",
        "colab_type": "text"
      },
      "source": [
        "A linked list is said to contain a cycle if any node is visited more than once while traversing the list. For example, in the following graph there is a cycle formed when node  points back to node .\n",
        "image\n",
        "Function Description\n",
        "Complete the function has_cycle in the editor below. It must return a boolean true if the graph contains a cycle, or false.\n",
        "has_cycle has the following parameter(s):\n",
        ": a pointer to a Node object that points to the head of a linked list.\n",
        "Note: If the list is empty,  will be null.\n",
        "Input Format\n",
        "There is no input for this challenge. A random linked list is generated at runtime and passed to your function.\n",
        "Constraints\n",
        "\n",
        "Output Format\n",
        "If the list contains a cycle, your function must return true. If the list does not contain a cycle, it must return false. The binary integer corresponding to the boolean value returned by your function is printed to stdout by our hidden code checker.\n",
        "Sample Input\n",
        "The following linked lists are passed as arguments to your function:\n",
        "image\n",
        "image\n",
        "Sample Output\n",
        "0\n",
        "1\n",
        "Explanation\n",
        "The first list has no cycle, so we return false and the hidden code checker prints  to stdout.\n",
        "The second list has a cycle, so we return true and the hidden code checker prints  to stdout."
      ]
    },
    {
      "cell_type": "code",
      "metadata": {
        "id": "PAsR54gLFdEl",
        "colab_type": "code",
        "colab": {}
      },
      "source": [
        "\"\"\"\n",
        "Detect a cycle in a linked list. Note that the head pointer may be 'None' if the list is empty.\n",
        "\n",
        "A Node is defined as: \n",
        " \n",
        "    class Node(object):\n",
        "        def __init__(self, data = None, next_node = None):\n",
        "            self.data = data\n",
        "            self.next = next_node\n",
        "\"\"\"\n",
        "\n",
        "\n",
        "def has_cycle(head):\n",
        "    slow_move = head\n",
        "    fast_move = head\n",
        "    while slow_move and fast_move and fast_move.next:\n",
        "        slow_move = slow_move.next\n",
        "        fast_move = fast_move.next.next\n",
        "        if (slow_move == fast_move):\n",
        "            return 1\n",
        "    return 0"
      ],
      "execution_count": 0,
      "outputs": []
    }
  ]
}