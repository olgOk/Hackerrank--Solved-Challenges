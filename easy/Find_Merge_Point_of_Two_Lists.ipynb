{
  "nbformat": 4,
  "nbformat_minor": 0,
  "metadata": {
    "colab": {
      "name": "Find Merge Point of Two Lists.ipynb",
      "provenance": []
    },
    "kernelspec": {
      "name": "python3",
      "display_name": "Python 3"
    }
  },
  "cells": [
    {
      "cell_type": "markdown",
      "metadata": {
        "id": "_LTDn4aqFlOP",
        "colab_type": "text"
      },
      "source": [
        "Given pointers to the head nodes of  linked lists that merge together at some point, find the Node where the two lists merge. It is guaranteed that the two head Nodes will be different, and neither will be NULL.\n",
        "In the diagram below, the two lists converge at Node x:\n",
        "[List #1] a--->b--->c\n",
        "                     \\\n",
        "                      x--->y--->z--->NULL\n",
        "                     /\n",
        "     [List #2] p--->q\n",
        "Complete the int findMergeNode(SinglyLinkedListNode* head1, SinglyLinkedListNode* head2) method so that it finds and returns the data value of the Node where the two lists merge.\n",
        "Input Format\n",
        "Do not read any input from stdin/console.\n",
        "The findMergeNode(SinglyLinkedListNode,SinglyLinkedListNode) method has two parameters,  and , which are the non-null head Nodes of two separate linked lists that are guaranteed to converge.\n",
        "Constraints\n",
        "The lists will merge. \n",
        ". \n",
        " .\n",
        "Output Format\n",
        "Do not write any output to stdout/console.\n",
        "Each Node has a data field containing an integer. Return the integer data for the Node where the two lists merge.\n",
        "Sample Input\n",
        "The diagrams below are graphical representations of the lists that input Nodes  and  are connected to. Recall that this is a method-only challenge; the method only has initial visibility to those  Nodes and must explore the rest of the Nodes using some algorithm of your own design.\n",
        "Test Case 0\n",
        " 1\n",
        "  \\\n",
        "   2--->3--->NULL\n",
        "  /\n",
        " 1\n",
        "Test Case 1\n",
        "1--->2\n",
        "      \\\n",
        "       3--->Null\n",
        "      /\n",
        "     1\n",
        "Sample Output\n",
        "2\n",
        "3\n",
        "Explanation\n",
        "Test Case 0: As demonstrated in the diagram above, the merge Node's data field contains the integer . \n",
        "Test Case 1: As demonstrated in the diagram above, the merge Node's data field contains the integer ."
      ]
    },
    {
      "cell_type": "code",
      "metadata": {
        "id": "PAsR54gLFdEl",
        "colab_type": "code",
        "colab": {}
      },
      "source": [
        "def findMergeNode(head1, head2):\n",
        "    lst1 = head1\n",
        "    lst2 = head2\n",
        "    \n",
        "    while(lst1 != lst2):\n",
        "        if lst1.next:\n",
        "            lst1 = lst1.next\n",
        "        else:\n",
        "            lst1 = head2\n",
        "        if lst2.next:\n",
        "            lst2 = lst2.next\n",
        "        else:\n",
        "            lst2 = head1\n",
        "    return lst1.data"
      ],
      "execution_count": 0,
      "outputs": []
    }
  ]
}